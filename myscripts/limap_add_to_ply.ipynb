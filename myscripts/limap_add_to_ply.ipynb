{
 "cells": [
  {
   "cell_type": "code",
   "execution_count": 1,
   "id": "d7b76a4a",
   "metadata": {},
   "outputs": [
    {
     "name": "stderr",
     "output_type": "stream",
     "text": [
      "I20250729 20:01:30.868050 136251777540416 io.py:read_folder_linetracks:313] Read linetracks from ../../datasets/jmsd/perspective_v1/lines/finaltracks/...\n"
     ]
    }
   ],
   "source": [
    "import limap\n",
    "import limap.util.io as limapio\n",
    "import matplotlib.pyplot as plt\n",
    "import numpy as np\n",
    "import plyfile\n",
    "import torch\n",
    "import tqdm\n",
    "\n",
    "# 加载线\n",
    "lines_path = '../../datasets/jmsd/perspective_v1/lines/finaltracks/'\n",
    "lines, linetracks = limapio.read_lines_from_input(lines_path)\n",
    "lines_start = np.array([line.start for line in lines])  # [n, 3]\n",
    "lines_end = np.array([line.end for line in lines])      # [n, 3]\n",
    "\n",
    "# 加载点\n",
    "ply_path = '../../datasets/jmsd/perspective_v1/point_cloud_subsampled_merged.ply'\n",
    "original_pc = plyfile.PlyData.read(ply_path)\n",
    "vertices = original_pc['vertex']\n",
    "coords = np.stack([vertices['x'], vertices['y'], vertices['z']], axis=1)\n",
    "colors = np.stack([vertices['red'], vertices['green'], vertices['blue']], axis=1) / 255.0\n"
   ]
  },
  {
   "cell_type": "code",
   "execution_count": 5,
   "id": "caa27d3b",
   "metadata": {},
   "outputs": [
    {
     "data": {
      "text/plain": [
       "0.6038816562605434"
      ]
     },
     "execution_count": 5,
     "metadata": {},
     "output_type": "execute_result"
    }
   ],
   "source": [
    "lines[0].length()"
   ]
  },
  {
   "cell_type": "code",
   "execution_count": 3,
   "id": "72b44dc2",
   "metadata": {},
   "outputs": [
    {
     "name": "stdout",
     "output_type": "stream",
     "text": [
      "737998 540723\n"
     ]
    }
   ],
   "source": [
    "# 在线上采样\n",
    "lines_points = []\n",
    "lines_colors = []\n",
    "for line in lines:\n",
    "    num_samples = int(line.length() // 0.5 + 10)\n",
    "    line_vec = line.end - line.start\n",
    "    line_points = np.array([line.start + (i / (num_samples - 1)) * line_vec for i in range(num_samples)])\n",
    "    # line_colors = np.tile(np.array([[0.0, 1.0, 0.0]]), (num_samples, 1))  # 绿色\n",
    "    line_colors = np.random.rand(num_samples, 3)  # 随机颜色\n",
    "    lines_points.append(line_points)\n",
    "    lines_colors.append(line_colors)\n",
    "line_points = np.vstack(lines_points)\n",
    "line_colors = np.vstack(lines_colors)\n",
    "print(line_points.shape[0], coords.shape[0])"
   ]
  },
  {
   "cell_type": "code",
   "execution_count": 4,
   "id": "7a2239a4",
   "metadata": {},
   "outputs": [
    {
     "name": "stdout",
     "output_type": "stream",
     "text": [
      "Jupyter environment detected. Enabling Open3D WebVisualizer.\n",
      "[Open3D INFO] WebRTC GUI backend enabled.\n",
      "[Open3D INFO] WebRTCWindowSystem: HTTP handshake server disabled.\n"
     ]
    }
   ],
   "source": [
    "import os\n",
    "import open3d as o3d\n",
    "\n",
    "os.environ[\"XDG_SESSION_TYPE\"] = 'x11'\n",
    "pcd = o3d.geometry.PointCloud()\n",
    "# pcd.points = o3d.utility.Vector3dVector(coords)\n",
    "# pcd.colors = o3d.utility.Vector3dVector(colors)\n",
    "pcd.points = o3d.utility.Vector3dVector(np.vstack([coords, line_points]))\n",
    "pcd.colors = o3d.utility.Vector3dVector(np.vstack([colors, line_colors]))\n",
    "\n",
    "o3d.visualization.draw_geometries([pcd])"
   ]
  },
  {
   "cell_type": "code",
   "execution_count": 5,
   "id": "dd7e4038",
   "metadata": {},
   "outputs": [],
   "source": [
    "from plyfile import PlyData, PlyElement\n",
    "# 合并点和颜色\n",
    "merged_coords = np.vstack([coords, line_points])\n",
    "merged_colors = np.vstack([colors, line_colors])\n",
    "\n",
    "# 转换为uint8\n",
    "merged_colors_uint8 = (merged_colors * 255).astype(np.uint8)\n",
    "\n",
    "# 构建新的vertex结构\n",
    "vertex_data = np.zeros(merged_coords.shape[0], dtype=[\n",
    "    ('x', 'f4'), ('y', 'f4'), ('z', 'f4'),\n",
    "    ('red', 'u1'), ('green', 'u1'), ('blue', 'u1')\n",
    "])\n",
    "vertex_data['x'] = merged_coords[:, 0]\n",
    "vertex_data['y'] = merged_coords[:, 1]\n",
    "vertex_data['z'] = merged_coords[:, 2]\n",
    "vertex_data['red'] = merged_colors_uint8[:, 0]\n",
    "vertex_data['green'] = merged_colors_uint8[:, 1]\n",
    "vertex_data['blue'] = merged_colors_uint8[:, 2]\n",
    "\n",
    "# 创建新的PlyElement\n",
    "vertex_element = PlyElement.describe(vertex_data, 'vertex')\n",
    "\n",
    "# 保存为新的ply文件\n",
    "PlyData([vertex_element]).write('../../datasets/jmsd/perspective_v1/merged_with_lines_subsampled.ply')"
   ]
  }
 ],
 "metadata": {
  "kernelspec": {
   "display_name": ".venv (3.12.3)",
   "language": "python",
   "name": "python3"
  },
  "language_info": {
   "codemirror_mode": {
    "name": "ipython",
    "version": 3
   },
   "file_extension": ".py",
   "mimetype": "text/x-python",
   "name": "python",
   "nbconvert_exporter": "python",
   "pygments_lexer": "ipython3",
   "version": "3.12.3"
  }
 },
 "nbformat": 4,
 "nbformat_minor": 5
}
