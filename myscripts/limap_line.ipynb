{
 "cells": [
  {
   "cell_type": "markdown",
   "id": "30eb1e1e",
   "metadata": {},
   "source": [
    "# 加载所有数据"
   ]
  },
  {
   "cell_type": "code",
   "execution_count": 2,
   "id": "30c1140c",
   "metadata": {},
   "outputs": [
    {
     "name": "stderr",
     "output_type": "stream",
     "text": [
      "I20250729 11:37:19.269258 133708200079680 io.py:read_folder_linetracks:313] Read linetracks from ../../datasets/jmsd/perspective_v1/lines/finaltracks/...\n"
     ]
    }
   ],
   "source": [
    "import limap\n",
    "import limap.util.io as limapio\n",
    "import matplotlib.pyplot as plt\n",
    "import numpy as np\n",
    "import plyfile\n",
    "import torch\n",
    "import tqdm\n",
    "\n",
    "# 加载线\n",
    "lines_path = '../../datasets/jmsd/perspective_v1/lines/finaltracks/'\n",
    "lines, linetracks = limapio.read_lines_from_input(lines_path)\n",
    "lines_start = np.array([line.start for line in lines])  # [n, 3]\n",
    "lines_end = np.array([line.end for line in lines])      # [n, 3]\n",
    "\n",
    "# 加载点\n",
    "ply_path = '../outputs/jmsd_with_imgrad/point_cloud/iteration_100000/point_cloud.ply'\n",
    "original_3dgs = plyfile.PlyData.read(ply_path)\n",
    "vertices = original_3dgs['vertex']\n",
    "coords = np.stack([vertices['x'], vertices['y'], vertices['z']], axis=1)\n",
    "colors = np.stack([vertices['red'], vertices['green'], vertices['blue']], axis=1) / 255.0\n",
    "\n",
    "# 筛选点\n",
    "# near_line_mask = []\n",
    "# for i, coord in enumerate(coords):\n",
    "#     dist = lines[0].point_distance(coord)\n",
    "#     threshold = 0.01\n",
    "#     prob = 0    \n",
    "#     if dist < threshold:\n",
    "#         save_mask.append(True)\n",
    "#     else:\n",
    "#         if np.random.rand() < prob:\n",
    "#             save_mask.append(True)\n",
    "#         save_mask.append(False)\n",
    "# # new_coords = coords[save_mask]\n",
    "# # new_colors = colors[save_mask]\n",
    "# save_mask = np.array(save_mask)\n",
    "# colors[save_mask] = np.array([1.0, 0.0, 0.0])  # 将选中的点颜色改为红色\n",
    "# colors[~save_mask] = np.array([0.0, 0.0, 1.0])  # 将未选中的点颜色改为蓝色\n",
    "\n",
    "# 在线上采样，用于可视化线\n",
    "lines_points = []\n",
    "lines_colors = []\n",
    "for line in lines:\n",
    "    num_samples = 100\n",
    "    line_vec = line.end - line.start\n",
    "    line_points = np.array([line.start + (i / (num_samples - 1)) * line_vec for i in range(num_samples)])\n",
    "    line_colors = np.tile(np.array([[0.0, 1.0, 0.0]]), (num_samples, 1))  # 绿色\n",
    "    lines_points.append(line_points)\n",
    "    lines_colors.append(line_colors)\n",
    "line_points = np.vstack(lines_points)\n",
    "line_colors = np.vstack(lines_colors)\n"
   ]
  },
  {
   "cell_type": "markdown",
   "id": "6e53172e",
   "metadata": {},
   "source": [
    "# 显示点和线"
   ]
  },
  {
   "cell_type": "code",
   "execution_count": null,
   "id": "3d3283be",
   "metadata": {},
   "outputs": [
    {
     "name": "stdout",
     "output_type": "stream",
     "text": [
      "(1580843,)\n",
      "(3871962,)\n"
     ]
    }
   ],
   "source": [
    "import os\n",
    "import open3d as o3d\n",
    "\n",
    "near_line_mask = np.where(min_dist < 0.05, True, False)\n",
    "new_colors = colors.copy()\n",
    "new_colors[near_line_mask] = np.array([1.0, 0.0, 0.0])  # 将选中的点颜色改为红色\n",
    "new_colors[~near_line_mask] = np.array([0.0, 0.0, 1.0])  # 将未选中的点颜色改为蓝色\n",
    "print(np.where(near_line_mask)[0].shape)\n",
    "print(np.where(~near_line_mask)[0].shape)\n",
    "\n",
    "os.environ[\"XDG_SESSION_TYPE\"] = 'x11'\n",
    "pcd = o3d.geometry.PointCloud()\n",
    "# pcd.points = o3d.utility.Vector3dVector(coords)\n",
    "# pcd.colors = o3d.utility.Vector3dVector(new_colors)\n",
    "pcd.points = o3d.utility.Vector3dVector(np.vstack([coords, line_points]))\n",
    "pcd.colors = o3d.utility.Vector3dVector(np.vstack([new_colors, line_colors]))\n",
    "\n",
    "o3d.visualization.draw_geometries([pcd])"
   ]
  },
  {
   "cell_type": "markdown",
   "id": "6c5b5267",
   "metadata": {},
   "source": [
    "# 使用KDTree来进行加速"
   ]
  },
  {
   "cell_type": "code",
   "execution_count": 7,
   "id": "98f271db",
   "metadata": {},
   "outputs": [
    {
     "name": "stderr",
     "output_type": "stream",
     "text": [
      "Batch processing: 100%|██████████| 333/333 [01:06<00:00,  5.00it/s]"
     ]
    },
    {
     "name": "stdout",
     "output_type": "stream",
     "text": [
      "with KD-tree:  66.62541007995605\n",
      "0: 0.1136\n",
      "1: 0.3735\n",
      "2: 0.3047\n",
      "3: 0.3165\n",
      "4: 0.1442\n",
      "5: 15.2494\n",
      "6: 19.3580\n",
      "7: 30.5466\n",
      "8: 28.7358\n",
      "9: 21.1759\n"
     ]
    },
    {
     "name": "stderr",
     "output_type": "stream",
     "text": [
      "\n"
     ]
    }
   ],
   "source": [
    "from scipy.spatial import cKDTree\n",
    "def batch_point_to_lines_distance_kdtree(points, lines_start, lines_end, device='cpu', k=100, point_batch_size=1024):\n",
    "    # single patch\n",
    "    def _batch_point_to_lines_distance_kdtree(points, lines_start, lines_end, tree, k, device):\n",
    "        dists, idxs = tree.query(points, k=k)  # idxs: [m, k]\n",
    "        selected_start = lines_start[idxs]  # [m, k, 3]\n",
    "        selected_end = lines_end[idxs]      # [m, k, 3]\n",
    "        points_torch = torch.from_numpy(points).float().to(device)         # [m, 3]\n",
    "        start_torch = torch.from_numpy(selected_start).float().to(device)  # [m, k, 3]\n",
    "        end_torch = torch.from_numpy(selected_end).float().to(device)      # [m, k, 3]\n",
    "        P = points_torch.unsqueeze(1)         # [m, 1, 3]\n",
    "        A = start_torch                       # [m, k, 3]\n",
    "        B = end_torch                         # [m, k, 3]\n",
    "        AB = B - A                            # [m, k, 3]\n",
    "        AP = P - A                            # [m, k, 3]\n",
    "        t = torch.sum(AP * AB, dim=2) / torch.sum(AB * AB, dim=2)  # [m, k]\n",
    "        t = torch.clamp(t, 0, 1)\n",
    "        closest = A + t.unsqueeze(2) * AB     # [m, k, 3]\n",
    "        dist = torch.norm(P - closest, dim=2) # [m, k]\n",
    "        min_dist = torch.min(dist, dim=1).values  # [m]\n",
    "        return min_dist.cpu().numpy()\n",
    "    \n",
    "    # Construct KDTree for midpoints of lines\n",
    "    lines_mid = (lines_start + lines_end) / 2.0  # [n, 3]\n",
    "    tree = cKDTree(lines_mid)\n",
    "    # Process points in batches\n",
    "    m = points.shape[0]\n",
    "    if m > point_batch_size:\n",
    "        num_batches = (m + point_batch_size - 1) // point_batch_size\n",
    "        min_dists = []\n",
    "        for i in tqdm.tqdm(range(num_batches), desc='Batch processing'):\n",
    "            start_idx = i * point_batch_size\n",
    "            end_idx = min((i + 1) * point_batch_size, m)\n",
    "            batch_points = points[start_idx:end_idx]\n",
    "            batch_min_dist = _batch_point_to_lines_distance_kdtree(batch_points, lines_start, lines_end, tree, k, device)\n",
    "            min_dists.append(batch_min_dist)\n",
    "        return np.concatenate(min_dists, axis=0)\n",
    "    else:\n",
    "        return _batch_point_to_lines_distance_kdtree(points, lines_start, lines_end, tree, k, device)\n",
    "\n",
    "import time\n",
    "start_time = time.time()\n",
    "min_dist = batch_point_to_lines_distance_kdtree(coords, lines_start, lines_end, device='cuda', k=100, point_batch_size=16384)\n",
    "print('with KD-tree: ', time.time() - start_time)\n",
    "for i in range(10):\n",
    "    print(f\"{i}: {min_dist[i]:.4f}\")"
   ]
  },
  {
   "cell_type": "markdown",
   "id": "dbb8d9c1",
   "metadata": {},
   "source": [
    "# 使用numba加速"
   ]
  },
  {
   "cell_type": "code",
   "execution_count": 5,
   "id": "02e7985a",
   "metadata": {},
   "outputs": [
    {
     "name": "stdout",
     "output_type": "stream",
     "text": [
      "将数据传输到GPU...\n",
      "启动GPU Kernel (Grid: 5326, Block: 1024)...\n",
      "将结果传回CPU...\n",
      "\n",
      "GPU 计算完成！\n",
      "总耗时: 76.0321 秒\n",
      "0: 0.1136\n",
      "1: 0.3735\n",
      "2: 0.3047\n",
      "3: 0.3165\n",
      "4: 0.1442\n",
      "5: 15.2494\n",
      "6: 19.3580\n",
      "7: 30.5466\n",
      "8: 26.7938\n",
      "9: 21.0464\n"
     ]
    }
   ],
   "source": [
    "import numpy as np\n",
    "import numba\n",
    "from numba import cuda\n",
    "import math\n",
    "from time import perf_counter\n",
    "\n",
    "@cuda.jit\n",
    "def point_to_line_distance_kernel(points, lines_start, lines_end, min_distances_out):\n",
    "    \"\"\"\n",
    "    这是一个将在 GPU 上运行的 CUDA Kernel。\n",
    "    每个 GPU 线程将处理一个点。\n",
    "    \"\"\"\n",
    "    # 获取当前 GPU 线程的全局唯一ID\n",
    "    idx = cuda.grid(1)\n",
    "\n",
    "    # 边界检查：确保线程ID不会超出点的数组范围\n",
    "    # (因为我们启动的线程总数可能略多于点的数量)\n",
    "    if idx >= points.shape[0]:\n",
    "        return\n",
    "\n",
    "    point = points[idx]\n",
    "    min_dist_for_point = 1e10  # 使用一个足够大的数作为初始无穷大\n",
    "\n",
    "    num_lines = lines_start.shape[0]\n",
    "\n",
    "    # 每个线程为其分配的点，遍历所有线段\n",
    "    for i in range(num_lines):\n",
    "        line_start = lines_start[i]\n",
    "        line_end = lines_end[i]\n",
    "\n",
    "        # --- 以下是点到线段距离的三维向量计算 ---\n",
    "        # 注意：在 @cuda.jit 设备代码中，我们不能使用 numpy 函数 (如 np.dot)\n",
    "        # 必须使用纯数学运算或 numba 支持的函数。\n",
    "\n",
    "        # 计算向量\n",
    "        line_vec_x = line_end[0] - line_start[0]\n",
    "        line_vec_y = line_end[1] - line_start[1]\n",
    "        line_vec_z = line_end[2] - line_start[2]\n",
    "\n",
    "        point_vec_x = point[0] - line_start[0]\n",
    "        point_vec_y = point[1] - line_start[1]\n",
    "        point_vec_z = point[2] - line_start[2]\n",
    "        \n",
    "        # 点积\n",
    "        dot_product = point_vec_x * line_vec_x + point_vec_y * line_vec_y + point_vec_z * line_vec_z\n",
    "        line_len_sq = line_vec_x**2 + line_vec_y**2 + line_vec_z**2\n",
    "        \n",
    "        dist_sq = 0.0 # 距离的平方，避免开方\n",
    "\n",
    "        if line_len_sq < 1e-9: # 线段是一个点\n",
    "             dist_sq = point_vec_x**2 + point_vec_y**2 + point_vec_z**2\n",
    "        else:\n",
    "            t = dot_product / line_len_sq\n",
    "            if t < 0.0:\n",
    "                dist_sq = point_vec_x**2 + point_vec_y**2 + point_vec_z**2\n",
    "            elif t > 1.0:\n",
    "                dx = point[0] - line_end[0]\n",
    "                dy = point[1] - line_end[1]\n",
    "                dz = point[2] - line_end[2]\n",
    "                dist_sq = dx**2 + dy**2 + dz**2\n",
    "            else:\n",
    "                # 投影点\n",
    "                proj_x = line_start[0] + t * line_vec_x\n",
    "                proj_y = line_start[1] + t * line_vec_y\n",
    "                proj_z = line_start[2] + t * line_vec_z\n",
    "                # 点到投影点的距离平方\n",
    "                dx = point[0] - proj_x\n",
    "                dy = point[1] - proj_y\n",
    "                dz = point[2] - proj_z\n",
    "                dist_sq = dx**2 + dy**2 + dz**2\n",
    "\n",
    "        if dist_sq < min_dist_for_point:\n",
    "            min_dist_for_point = dist_sq\n",
    "\n",
    "    # 将最终找到的最小距离（开方后）写入输出数组\n",
    "    min_distances_out[idx] = math.sqrt(min_dist_for_point)\n",
    "\n",
    "\n",
    "# ===================================================================\n",
    "# 主机端函数 (这是我们调用的主函数)\n",
    "# ===================================================================\n",
    "\n",
    "def find_closest_lines_gpu(points, lines_start, lines_end):\n",
    "    \"\"\"\n",
    "    使用 Numba 和 GPU 并行计算m个点到n条线段的最短距离。\n",
    "\n",
    "    参数:\n",
    "    points (np.ndarray): Shape (m, 3) 的点数组。\n",
    "    lines_start (np.ndarray): Shape (n, 3) 的线段起点数组。\n",
    "    lines_end (np.ndarray): Shape (n, 3) 的线段终点数组。\n",
    "\n",
    "    返回:\n",
    "    np.ndarray: Shape (m,) 的数组，包含每个点到所有线段的最短距离。\n",
    "    \"\"\"\n",
    "    num_points = points.shape[0]\n",
    "    if num_points == 0:\n",
    "        return np.array([])\n",
    "    if lines_start.shape[0] == 0:\n",
    "        return np.full(num_points, np.inf)\n",
    "\n",
    "    # 1. 将数据从 CPU 内存 (NumPy arrays) 复制到 GPU 内存\n",
    "    print(\"将数据传输到GPU...\")\n",
    "    points_device = cuda.to_device(points)\n",
    "    lines_start_device = cuda.to_device(lines_start)\n",
    "    lines_end_device = cuda.to_device(lines_end)\n",
    "    \n",
    "    # 2. 在 GPU 上创建一个用于存储结果的空数组\n",
    "    min_distances_device = cuda.device_array(num_points, dtype=np.float64)\n",
    "\n",
    "    # 3. 配置 GPU Kernel 的启动参数\n",
    "    # 设置每个 block 的线程数 (通常是32的倍数，如 128, 256)\n",
    "    threads_per_block = 1024\n",
    "    # 计算需要的 block 数量，使用向上取整\n",
    "    blocks_per_grid = (num_points + (threads_per_block - 1)) // threads_per_block\n",
    "\n",
    "    print(f\"启动GPU Kernel (Grid: {blocks_per_grid}, Block: {threads_per_block})...\")\n",
    "    \n",
    "    # 4. 启动 Kernel！\n",
    "    point_to_line_distance_kernel[blocks_per_grid, threads_per_block](\n",
    "        points_device,\n",
    "        lines_start_device,\n",
    "        lines_end_device,\n",
    "        min_distances_device\n",
    "    )\n",
    "    # GPU 现在开始并行计算\n",
    "    \n",
    "    # 5. 将计算结果从 GPU 内存复制回 CPU 内存\n",
    "    print(\"将结果传回CPU...\")\n",
    "    min_distances_host = min_distances_device.copy_to_host()\n",
    "\n",
    "    return min_distances_host\n",
    "\n",
    "\n",
    "\n",
    "\n",
    "# --- 调用核心函数进行计算 ---\n",
    "try:\n",
    "    start_time = perf_counter()\n",
    "    min_dist = find_closest_lines_gpu(coords, lines_start, lines_end)\n",
    "    end_time = perf_counter()\n",
    "\n",
    "    # --- 打印结果 ---\n",
    "    print(\"\\nGPU 计算完成！\")\n",
    "    print(f\"总耗时: {end_time - start_time:.4f} 秒\")\n",
    "    for i in range(10):\n",
    "        print(f\"{i}: {min_dist[i]:.4f}\")\n",
    "\n",
    "except numba.cuda.cudadrv.error.CudaSupportError as e:\n",
    "    print(f\"\\n错误: 未找到CUDA支持的设备或CUDA工具包未正确安装。\")\n",
    "    print(f\"请确保您有NVIDIA GPU并已安装CUDA Toolkit。\")\n",
    "    print(f\"Numba 错误信息: {e}\")\n"
   ]
  },
  {
   "cell_type": "markdown",
   "id": "30076dca",
   "metadata": {},
   "source": [
    "# 使用自己写的fast_point_line_distance"
   ]
  },
  {
   "cell_type": "code",
   "execution_count": 5,
   "id": "808007a4",
   "metadata": {},
   "outputs": [
    {
     "name": "stdout",
     "output_type": "stream",
     "text": [
      "使用自定义函数计算耗时: 0.5668 秒\n",
      "0: 0.1136\n",
      "1: 0.3735\n",
      "2: 0.3047\n",
      "3: 0.3165\n",
      "4: 0.1442\n",
      "5: 15.2494\n",
      "6: 19.3580\n",
      "7: 30.5466\n",
      "8: 26.7938\n",
      "9: 21.0464\n"
     ]
    }
   ],
   "source": [
    "import torch\n",
    "from fast_point_line_distance import find_shortest_distance\n",
    "from time import perf_counter\n",
    "ptsdata = coords\n",
    "linesdata = np.stack((lines_start, lines_end), axis=1)\n",
    "start_time = perf_counter()\n",
    "min_dist = find_shortest_distance(coords, linesdata)\n",
    "end_time = perf_counter()\n",
    "print(f\"使用自定义函数计算耗时: {end_time - start_time:.4f} 秒\")\n",
    "for i in range(10):\n",
    "    print(f\"{i}: {min_dist[i]:.4f}\")"
   ]
  },
  {
   "cell_type": "code",
   "execution_count": 13,
   "id": "a4a1c706",
   "metadata": {},
   "outputs": [
    {
     "data": {
      "text/plain": [
       "array([[  6.96874505, -12.91281555,  -1.73939845],\n",
       "       [  6.94208797, -12.97871864,  -1.13971584]])"
      ]
     },
     "execution_count": 13,
     "metadata": {},
     "output_type": "execute_result"
    }
   ],
   "source": [
    "lines[0].as_array()  # 获取线段的数组表示"
   ]
  },
  {
   "cell_type": "markdown",
   "id": "ebbb3a25",
   "metadata": {},
   "source": [
    "# 筛选点"
   ]
  },
  {
   "cell_type": "code",
   "execution_count": 6,
   "id": "795f9c5b",
   "metadata": {},
   "outputs": [],
   "source": [
    "# 筛选点\n",
    "near_line_mask = np.where(min_dist < 0.01, True, False)\n",
    "keep_mask = near_line_mask.copy()\n",
    "new_colors = colors.copy()\n",
    "false_indices = np.where(~near_line_mask)[0]\n",
    "random_keep = np.random.rand(false_indices.size) < 0.1\n",
    "keep_mask[false_indices[random_keep]] = True\n",
    "\n",
    "new_coords = coords[keep_mask]\n",
    "new_colors = new_colors[keep_mask]\n",
    "new_colors[near_line_mask[keep_mask]] = np.array([1.0, 0.0, 0.0])  # True的为红色\n",
    "new_colors[~near_line_mask[keep_mask]] = np.array([0.0, 0.0, 1.0])\n"
   ]
  },
  {
   "cell_type": "markdown",
   "id": "a59965e3",
   "metadata": {},
   "source": [
    "# 可视化筛选结果"
   ]
  },
  {
   "cell_type": "code",
   "execution_count": 7,
   "id": "3095fa07",
   "metadata": {},
   "outputs": [
    {
     "name": "stdout",
     "output_type": "stream",
     "text": [
      "Jupyter environment detected. Enabling Open3D WebVisualizer.\n",
      "[Open3D INFO] WebRTC GUI backend enabled.\n",
      "[Open3D INFO] WebRTCWindowSystem: HTTP handshake server disabled.\n"
     ]
    }
   ],
   "source": [
    "import os\n",
    "import open3d as o3d\n",
    "os.environ[\"XDG_SESSION_TYPE\"] = 'x11'\n",
    "pcd = o3d.geometry.PointCloud()\n",
    "pcd.points = o3d.utility.Vector3dVector(new_coords)\n",
    "pcd.colors = o3d.utility.Vector3dVector(new_colors)\n",
    "\n",
    "o3d.visualization.draw_geometries([pcd])"
   ]
  },
  {
   "cell_type": "markdown",
   "id": "ea5ebd27",
   "metadata": {},
   "source": [
    "# 保存ply文件"
   ]
  },
  {
   "cell_type": "code",
   "execution_count": 9,
   "id": "2ca176d5",
   "metadata": {},
   "outputs": [],
   "source": [
    "from plyfile import PlyData, PlyElement\n",
    "import os\n",
    "\n",
    "# 用keep_mask筛选所有属性\n",
    "filtered_vertex = vertices[keep_mask]\n",
    "# use copy to realocate memory\n",
    "filtered_vertex = filtered_vertex.copy()\n",
    "\n",
    "# 构造新的PlyData并保存\n",
    "filtered_ply = PlyData([PlyElement.describe(filtered_vertex, 'vertex')], text=False)\n",
    "filtered_ply.write(os.path.join(os.path.dirname(ply_path), 'line_filtered.ply'))\n"
   ]
  }
 ],
 "metadata": {
  "kernelspec": {
   "display_name": ".venv (3.12.3)",
   "language": "python",
   "name": "python3"
  },
  "language_info": {
   "codemirror_mode": {
    "name": "ipython",
    "version": 3
   },
   "file_extension": ".py",
   "mimetype": "text/x-python",
   "name": "python",
   "nbconvert_exporter": "python",
   "pygments_lexer": "ipython3",
   "version": "3.12.3"
  }
 },
 "nbformat": 4,
 "nbformat_minor": 5
}
